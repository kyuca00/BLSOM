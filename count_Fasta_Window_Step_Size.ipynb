{
 "cells": [
  {
   "cell_type": "markdown",
   "metadata": {},
   "source": [
    "# Count Fasta (Windows-Size, Step-Size)\n",
    "Kennosuke Wada & Yoshiko Wada (Nagahama Institute of Bio-Science and Technology. Shiga, Japan)"
   ]
  },
  {
   "cell_type": "markdown",
   "metadata": {},
   "source": [
    "## Setting parameters"
   ]
  },
  {
   "cell_type": "code",
   "execution_count": null,
   "metadata": {},
   "outputs": [],
   "source": [
    "dir_fasta     = \"fasta\"                    # Name of the directory containing the Fasta file\n",
    "ext_fasta     = [\".fasta\", \".fas\", \".fa\"]  # Fasta file extensions\n",
    "count_letters = ['A', 'C', 'G', 'T']       # List of characters to be counted for frequency\n",
    "\n",
    "nuc_length    = 6       # Length of nucleotides to be frequency counted\n",
    "window_size   = 10000   # Length of the segment to count the frequency\n",
    "step_size     = 10000   # Step length when counting by shifting the segment\n",
    "others_th     = 20      # Ignore segments where the content of characters not included in the frequency count exceeds this value"
   ]
  },
  {
   "cell_type": "code",
   "execution_count": null,
   "metadata": {},
   "outputs": [],
   "source": [
    "import os.path\n",
    "import glob\n",
    "import time"
   ]
  },
  {
   "cell_type": "code",
   "execution_count": null,
   "metadata": {},
   "outputs": [],
   "source": [
    "if not os.path.isdir(dir_fasta):\n",
    "    raise Exception(\"Fasta files should be included in the directory : \" + dir_fasta + \".\")"
   ]
  },
  {
   "cell_type": "code",
   "execution_count": null,
   "metadata": {},
   "outputs": [],
   "source": [
    "start_time = time.time()"
   ]
  },
  {
   "cell_type": "code",
   "execution_count": null,
   "metadata": {},
   "outputs": [],
   "source": [
    "fasta_files = []\n",
    "filenames = os.path.join(dir_fasta, '*')\n",
    "\n",
    "for file in glob.glob(filenames):\n",
    "    root, ext = os.path.splitext(file)\n",
    "    if ext in ext_fasta:\n",
    "        fasta_files.append(file)\n",
    "        print(file)\n",
    "\n",
    "if len(fasta_files) == 0:\n",
    "    raise Exception(\"Not found Fasta files in the directory : \" + dir_fasta + \".\")"
   ]
  },
  {
   "cell_type": "code",
   "execution_count": null,
   "metadata": {},
   "outputs": [],
   "source": [
    "# Supports multi-faster format in which multiple sequences are described in one fasta file\n",
    "\n",
    "class FastaData():\n",
    "    def __init__(self, filename):\n",
    "        self.filename = filename\n",
    "        self.name = os.path.basename(filename)\n",
    "        self.dataDict = {}        # Sequence name\n",
    "        self.compListDict = {}    # Mononucleotide frequency\n",
    "        self.patternListDict = {} # Oligo frequency\n",
    "        \n",
    "        self.readData()\n",
    "    \n",
    "    def readData(self):\n",
    "        with open(self.filename) as f:\n",
    "            lines = f.readlines()\n",
    "        \n",
    "        key = None\n",
    "        txt = ''\n",
    "        \n",
    "        for line in lines:\n",
    "            if line.startswith('>'):\n",
    "                if key != None:\n",
    "                    self.dataDict[key] = txt\n",
    "                key = line.rstrip('\\n')\n",
    "                txt = ''\n",
    "            else:\n",
    "                txt += line.rstrip('\\n')\n",
    "        \n",
    "        self.dataDict[key] = txt"
   ]
  },
  {
   "cell_type": "code",
   "execution_count": null,
   "metadata": {
    "scrolled": false
   },
   "outputs": [],
   "source": [
    "fasta_data_list = []\n",
    "debug_print = False\n",
    "\n",
    "for filename in fasta_files:\n",
    "    fasta_data = FastaData(filename)\n",
    "    fasta_data_list.append(fasta_data)\n",
    "    \n",
    "    if debug_print:\n",
    "        print(fasta_data.name)\n",
    "        print(len(fasta_data.dataDict))\n",
    "        for key, val in fasta_data.dataDict.items():\n",
    "            print(key)\n",
    "            print(val)\n",
    "        print('------')"
   ]
  },
  {
   "cell_type": "code",
   "execution_count": null,
   "metadata": {},
   "outputs": [],
   "source": [
    "def countPattern(sequence, nuc_length, debug=False):\n",
    "    sequence = sequence.upper()    # Convert all letters to uppercase\n",
    "    patterns = {}\n",
    "    \n",
    "    for i in range(len(sequence) - nuc_length + 1):\n",
    "        substr = sequence[i:(i + nuc_length)]\n",
    "        \n",
    "        stopFlag = False\n",
    "        for s in substr:\n",
    "            if s not in count_letters:  # Excludes patterns that include characters other than the specified character\n",
    "                stopFlag = True\n",
    "                break\n",
    "        if stopFlag:\n",
    "            continue\n",
    "        \n",
    "        if debug:\n",
    "            print(substr)\n",
    "        \n",
    "        if substr in patterns.keys():\n",
    "            patterns[substr] += 1\n",
    "        else:\n",
    "            patterns[substr] = 1\n",
    "    \n",
    "    return patterns"
   ]
  },
  {
   "cell_type": "code",
   "execution_count": null,
   "metadata": {
    "scrolled": true
   },
   "outputs": [],
   "source": [
    "debug_print = False\n",
    "\n",
    "# A set of nucleotide patterns that appear even once in the entire sequence\n",
    "patterns_set = set()\n",
    "\n",
    "for fasta_data in fasta_data_list:\n",
    "    print(fasta_data.name)\n",
    "    \n",
    "    for seq_name in fasta_data.dataDict:\n",
    "        sequence = fasta_data.dataDict[seq_name]\n",
    "        print(seq_name)\n",
    "        #print(sequence)\n",
    "        \n",
    "        fasta_data.patternListDict[seq_name]= []    # List of segment frequency dictionaries\n",
    "        fasta_data.compListDict[seq_name] = []      # Frequencies of ACGT and others for a segment\n",
    "        \n",
    "        for start in range(0, len(sequence), step_size):\n",
    "            if start + window_size >= len(sequence):\n",
    "                break\n",
    "            subsequence = sequence[start:(start + window_size)]\n",
    "            \n",
    "            counts = []\n",
    "            sum = 0\n",
    "            for x in count_letters:\n",
    "                num = subsequence.count(x)\n",
    "                sum += num\n",
    "                counts.append(num)\n",
    "            counts.append(len(subsequence) - sum)\n",
    "            \n",
    "            others_percent = 100.0 * counts[-1] / len(subsequence)\n",
    "            if others_percent > others_th:\n",
    "                print(\"#\" + str(start) + \"_\" + str(start + window_size - 1))\n",
    "                print(\"\\tOthers Percent : \", others_percent)\n",
    "                continue\n",
    "            \n",
    "            patterns = countPattern(subsequence, nuc_length)\n",
    "            fasta_data.patternListDict[seq_name].append(patterns)\n",
    "            fasta_data.compListDict[seq_name].append(counts)\n",
    "            \n",
    "            if debug_print:\n",
    "                print(len(patterns.keys()))\n",
    "        \n",
    "            patterns_set |= set(patterns.keys())    # Add key by union\n",
    "    \n",
    "    #fasta_data.dataDict.clear()  # Delete the sequence dictionary to save memory\n",
    "    \n",
    "    if debug_print:\n",
    "        print('------')\n",
    "\n",
    "patterns_set = sorted(patterns_set)\n",
    "nuc_pow = len(count_letters) ** nuc_length\n",
    "\n",
    "print(str(len(patterns_set)) + \" / \" + str(nuc_pow))\n",
    "#print(patterns_set)"
   ]
  },
  {
   "cell_type": "code",
   "execution_count": null,
   "metadata": {
    "scrolled": true
   },
   "outputs": [],
   "source": [
    "dirname = \"count_\" + str(nuc_length) + \"_\" + str(window_size) + \"_\" + str(step_size)\n",
    "dir_count = os.path.join(dir_fasta, dirname)\n",
    "if not os.path.isdir(dir_count):\n",
    "    os.mkdir(dir_count)\n",
    "\n",
    "fname = os.path.join(dir_count, \"labels.txt\")\n",
    "labels = \"\"\n",
    "with open(fname, \"w\", encoding=\"utf-8\") as f:\n",
    "    labels = \"\\t\".join(patterns_set)\n",
    "    f.write(labels)\n",
    "\n",
    "count_letters.append('-')\n",
    "\n",
    "for fasta_data in fasta_data_list:\n",
    "    fname = os.path.join(dir_count, os.path.splitext(fasta_data.name)[0] + \".cnt\")\n",
    "    print(fname)\n",
    "    \n",
    "    with open(fname, \"w\", encoding=\"utf-8\") as f:\n",
    "        head  = \"%NUCLEOTIDES\\t\" + str(nuc_length) + \"\\n\"\n",
    "        head += \"%WINDOWSIZE\\t\" + str(window_size) + \"\\n\"\n",
    "        head += \"%STEPSIZE\\t\" + str(step_size) + \"\\n\"\n",
    "        f.write(head)\n",
    "        \n",
    "        for seq_name, patternDict in fasta_data.patternListDict.items():\n",
    "            print(seq_name)\n",
    "            f.write(seq_name + \"\\n\")\n",
    "            \n",
    "            for segmentNo, segmentDict in enumerate(patternDict):\n",
    "                segmentKeys = segmentDict.keys()\n",
    "                \n",
    "                start = segmentNo * step_size + 1\n",
    "                end   = start + window_size - 1\n",
    "                \n",
    "                compline = \"#\" + str(start) + \"_\" + str(end)\n",
    "                \n",
    "                counts = fasta_data.compListDict[seq_name][segmentNo]\n",
    "                                \n",
    "                for idx, count in enumerate(counts):\n",
    "                    compline += \"\\t\" + count_letters[idx] + \" : \" + str(count)\n",
    "                f.write(compline + \"\\n\")\n",
    "                \n",
    "                line = []\n",
    "                for pattern in patterns_set:\n",
    "                    count = 0\n",
    "                    if pattern in segmentKeys:\n",
    "                        count = segmentDict[pattern]\n",
    "                    line.append(count)\n",
    "                line = [str(x) for x in line]\n",
    "                line = \"\\t\".join(line)\n",
    "                \n",
    "                f.write(line + \"\\n\")"
   ]
  },
  {
   "cell_type": "code",
   "execution_count": null,
   "metadata": {},
   "outputs": [],
   "source": [
    "end_time = time.time()\n",
    "print(\"Elapsed Time: {0} [sec]\".format(end_time - start_time))"
   ]
  }
 ],
 "metadata": {
  "kernelspec": {
   "display_name": "Python 3",
   "language": "python",
   "name": "python3"
  },
  "language_info": {
   "codemirror_mode": {
    "name": "ipython",
    "version": 3
   },
   "file_extension": ".py",
   "mimetype": "text/x-python",
   "name": "python",
   "nbconvert_exporter": "python",
   "pygments_lexer": "ipython3",
   "version": "3.7.9"
  }
 },
 "nbformat": 4,
 "nbformat_minor": 2
}
