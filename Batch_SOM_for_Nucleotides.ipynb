{
 "cells": [
  {
   "cell_type": "markdown",
   "metadata": {},
   "source": [
    "# Batch SOM for Nucleotides\n",
    "Kennosuke Wada & Yoshiko Wada (Nagahama Institute of Bio-Science and Technology. Shiga, Japan)"
   ]
  },
  {
   "cell_type": "code",
   "execution_count": 1,
   "metadata": {},
   "outputs": [],
   "source": [
    "import os.path\n",
    "import glob\n",
    "import numpy as np\n",
    "import time\n",
    "import datetime\n",
    "import random\n",
    "import matplotlib.pyplot as plt"
   ]
  },
  {
   "cell_type": "code",
   "execution_count": 2,
   "metadata": {},
   "outputs": [],
   "source": [
    "import seaborn as sns\n",
    "sns.set_style(\"whitegrid\")"
   ]
  },
  {
   "cell_type": "markdown",
   "metadata": {},
   "source": [
    "## Setting parameters"
   ]
  },
  {
   "cell_type": "code",
   "execution_count": 3,
   "metadata": {},
   "outputs": [],
   "source": [
    "row           = 8          # Number of rows in SOM\n",
    "col           = 10         # Number of columns in SOM\n",
    "\n",
    "seed          = 12345678   # Seed of random number generation\n",
    "\n",
    "learning_step = 3000       # Number of learning\n",
    "\n",
    "alpha_init    = 0.01       # Initial value of learning speed\n",
    "range_init    = 0.5        # Initial value of neighborhood radius (50%)"
   ]
  },
  {
   "cell_type": "markdown",
   "metadata": {},
   "source": [
    "## Loading the nucleotide frequency count data"
   ]
  },
  {
   "cell_type": "code",
   "execution_count": 4,
   "metadata": {},
   "outputs": [
    {
     "name": "stdout",
     "output_type": "stream",
     "text": [
      "fasta\\som_2021_02_13_15_29\n"
     ]
    }
   ],
   "source": [
    "# Frequency count file directory\n",
    "dir_count     = os.path.join(\"fasta\", \"count_2_10000_10000\")\n",
    "\n",
    "# Frequency count file extension\n",
    "ext_count     = [\".count\", \".cnt\"]\n",
    "\n",
    "# Directory for storing SOM calculation results\n",
    "dt_now = datetime.datetime.now()\n",
    "time_str = \"{}_{:02d}_{:02d}_{:02d}_{:02d}\".format(\n",
    "    dt_now.year, dt_now.month, dt_now.day, dt_now.hour, dt_now.minute)\n",
    "dir_som       = \"som_\" +  time_str\n",
    "dir_output    = os.path.join(\"fasta\", dir_som)\n",
    "print(dir_output)\n",
    "\n",
    "if not os.path.isdir(dir_output):\n",
    "    os.mkdir(dir_output)"
   ]
  },
  {
   "cell_type": "code",
   "execution_count": 5,
   "metadata": {},
   "outputs": [
    {
     "name": "stdout",
     "output_type": "stream",
     "text": [
      "Number of nucleotide types : 16\n",
      "fasta\\count_2_10000_10000\\EbolaNew.cnt\n",
      "fasta\\count_2_10000_10000\\ZikaHum.cnt\n"
     ]
    }
   ],
   "source": [
    "nuc_names = \"\"\n",
    "\n",
    "labels_filename = os.path.join(dir_count, \"labels.txt\")\n",
    "if os.path.exists(labels_filename) and os.path.isfile(labels_filename):\n",
    "    with open(labels_filename) as f:\n",
    "        nuc_names = f.read().split(\"\\t\")\n",
    "        print(\"Number of nucleotide types :\", len(nuc_names))\n",
    "else:\n",
    "    raise Exception(\"Not found a file of 'labels.txt' in the directory : \" + dir_count + \".\")\n",
    "\n",
    "count_files = []\n",
    "filenames = os.path.join(dir_count, \"*\")\n",
    "\n",
    "for file in glob.glob(filenames):\n",
    "    root, ext = os.path.splitext(file)\n",
    "    if ext in ext_count:\n",
    "        count_files.append(file)\n",
    "        print(file)\n",
    "\n",
    "if len(count_files) == 0:\n",
    "    raise Exception(\"Not found Count files in the directory : \" + dir_count + \".\")"
   ]
  },
  {
   "cell_type": "code",
   "execution_count": 6,
   "metadata": {},
   "outputs": [
    {
     "name": "stdout",
     "output_type": "stream",
     "text": [
      "['EbolaNew', 'ZikaHum']\n",
      "n_targets     =  1945\n",
      "n_samples     =  1945\n",
      "n_features    =  16\n"
     ]
    }
   ],
   "source": [
    "names  = []\n",
    "target = []\n",
    "data   = np.empty((0, len(nuc_names)))\n",
    "\n",
    "for file in count_files:\n",
    "    fname = os.path.basename(file)\n",
    "    root, ext = os.path.splitext(fname)\n",
    "    names.append(root)\n",
    "\n",
    "print(names)\n",
    "\n",
    "for idx, file in enumerate(count_files):\n",
    "    with open(file) as f:\n",
    "        lines = f.readlines()\n",
    "        for line in lines:\n",
    "            if line[0] in ['%', '>', '#']:\n",
    "                continue\n",
    "            elif not line.strip():\n",
    "                continue\n",
    "            else:\n",
    "                target.append(idx)\n",
    "                vec = line.split('\\t')\n",
    "                vec = [float(s) for s in vec]\n",
    "                vec = np.array([vec])\n",
    "                # Normalization\n",
    "                #nvec = vec / np.linalg.norm(vec)    # Normalize vector length to 1\n",
    "                nvec = vec / np.sum(vec)             # Normalize the sum of the components to 1\n",
    "                data = np.append(data, nvec, axis=0)\n",
    "\n",
    "n_targets = len(target)\n",
    "print(\"n_targets     = \", n_targets)   # Number of correct labels\n",
    "\n",
    "n_samples, n_features = data.shape\n",
    "print(\"n_samples     = \", n_samples)   # Number of data\n",
    "print(\"n_features    = \", n_features)  # Number of nucleotide types"
   ]
  },
  {
   "cell_type": "markdown",
   "metadata": {},
   "source": [
    "## Starting the SOM calculation"
   ]
  },
  {
   "cell_type": "code",
   "execution_count": 7,
   "metadata": {},
   "outputs": [],
   "source": [
    "start_time = time.time()"
   ]
  },
  {
   "cell_type": "code",
   "execution_count": 8,
   "metadata": {},
   "outputs": [],
   "source": [
    "# Automatic pallet generation\n",
    "import colorsys\n",
    "\n",
    "num_colors = len(names)\n",
    "colors = np.array([colorsys.hsv_to_rgb(h, 1.0, 1.0)\n",
    "                   for h in np.linspace(0, 240/360, num_colors)])\n",
    "pallets = {}\n",
    "pallets[-2] = (0.0, 0.0, 0.0)  # Black : When different labels are assigned to the same cell \n",
    "pallets[-1] = (1.0, 1.0, 1.0)  # White : When unallocated\n",
    "for idx, color in enumerate(colors):\n",
    "    pallets[idx] = color"
   ]
  },
  {
   "cell_type": "code",
   "execution_count": 9,
   "metadata": {},
   "outputs": [],
   "source": [
    "# Set the seed of random number\n",
    "random.seed(seed)\n",
    "np.random.seed(seed)"
   ]
  },
  {
   "cell_type": "markdown",
   "metadata": {},
   "source": [
    "## Generating the initialization vector of SOM array by random numbers\n"
   ]
  },
  {
   "cell_type": "code",
   "execution_count": 10,
   "metadata": {},
   "outputs": [],
   "source": [
    "# Generating the weight vector of SOM cell with random numbers of normal distribution\n",
    "means = data.mean(axis=0)\n",
    "stds  = data.std(axis=0)\n",
    "weight = np.zeros((row, col, n_features))\n",
    "'''\n",
    "for t in range(n_features):\n",
    "    for x in range(row):\n",
    "        for y in range(col):\n",
    "            weight[x, y, t] = np.random.normal(means[t], stds[t])\n",
    "'''\n",
    "for t in range(n_features):\n",
    "    weight[:, :, t] = np.random.normal(means[t], stds[t], (row, col))"
   ]
  },
  {
   "cell_type": "code",
   "execution_count": 11,
   "metadata": {},
   "outputs": [],
   "source": [
    "# SOM cell weight vector for batch processing\n",
    "weight_delta = np.zeros((row, col, n_features))\n",
    "\n",
    "# Number of times changed by input vector\n",
    "weight_count = np.zeros((row, col))\n",
    "\n",
    "# The label of the maximum matched input registered in the SOM cell\n",
    "cell_label = np.zeros((row, col), dtype=int)\n",
    "\n",
    "# SOM cell color\n",
    "cell_color = np.zeros((row, col, 3))"
   ]
  },
  {
   "cell_type": "code",
   "execution_count": 12,
   "metadata": {},
   "outputs": [],
   "source": [
    "x, y = np.meshgrid(range(row), range(col))\n",
    "coordinates = np.hstack((y.flatten()[:, np.newaxis], x.flatten()[:, np.newaxis]))"
   ]
  },
  {
   "cell_type": "code",
   "execution_count": 13,
   "metadata": {},
   "outputs": [],
   "source": [
    "def find_matching_cell(invec):\n",
    "    min_idx = np.argmin(np.linalg.norm(weight - invec, axis=2))\n",
    "    return np.unravel_index(min_idx, (row, col))"
   ]
  },
  {
   "cell_type": "code",
   "execution_count": 14,
   "metadata": {},
   "outputs": [],
   "source": [
    "def change_weight(x, y, a, r, invec):\n",
    "    global weight_delta, weight, weight_count\n",
    "    for dx in range(-r, r + 1):\n",
    "        for dy in range(-r, r + 1):\n",
    "            try:\n",
    "                dist = dx**2 + dy**2 + 1\n",
    "                weight_delta[x + dx, y + dy] += a * (invec - weight[x + dx, y + dy]) / dist\n",
    "                weight_count[x + dx, y + dy] += 1.0 / dist\n",
    "            except:\n",
    "                pass"
   ]
  },
  {
   "cell_type": "code",
   "execution_count": 15,
   "metadata": {},
   "outputs": [],
   "source": [
    "def create_image(cell_color, step):\n",
    "    plt.axis(\"off\")\n",
    "    image = plt.imshow(cell_color.reshape(row, col, 3), interpolation='none')\n",
    "    plt.title(\"{0:04d}\".format(step), fontsize=18, fontweight='bold')\n",
    "    \n",
    "    filename = '{0:04d}'.format(step)\n",
    "    fname = os.path.join(dir_output, filename)\n",
    "    plt.savefig(fname)\n",
    "    \n",
    "    return image"
   ]
  },
  {
   "cell_type": "code",
   "execution_count": 16,
   "metadata": {},
   "outputs": [],
   "source": [
    "rangeF = range_init\n",
    "alpha  = alpha_init\n",
    "\n",
    "half_step = learning_step / 2"
   ]
  },
  {
   "cell_type": "code",
   "execution_count": 17,
   "metadata": {},
   "outputs": [
    {
     "name": "stdout",
     "output_type": "stream",
     "text": [
      "2021-02-13 15:29:59.351526\n"
     ]
    }
   ],
   "source": [
    "print(datetime.datetime.now())"
   ]
  },
  {
   "cell_type": "code",
   "execution_count": null,
   "metadata": {},
   "outputs": [
    {
     "name": "stdout",
     "output_type": "stream",
     "text": [
      "Time = 2021-02-13 15:30:01.055240 : Step = 0000, Radius = 4, alpha = 0.01\n",
      "Time = 2021-02-13 15:32:36.390878 : Step = 0100, Radius = 4, alpha = 0.009552829363824374\n",
      "Time = 2021-02-13 15:35:07.917723 : Step = 0200, Radius = 4, alpha = 0.00912143891163659\n",
      "Time = 2021-02-13 15:37:34.662099 : Step = 0300, Radius = 3, alpha = 0.008709529360357965\n",
      "Time = 2021-02-13 15:39:17.134758 : Step = 0400, Radius = 3, alpha = 0.008316220983749064\n",
      "Time = 2021-02-13 15:41:00.544371 : Step = 0500, Radius = 3, alpha = 0.007940673782596419\n",
      "Time = 2021-02-13 15:42:43.457130 : Step = 0600, Radius = 3, alpha = 0.007582085690703759\n",
      "Time = 2021-02-13 15:44:24.619956 : Step = 0700, Radius = 3, alpha = 0.007239690861897795\n",
      "Time = 2021-02-13 15:46:07.954200 : Step = 0800, Radius = 3, alpha = 0.0069127580343900765\n",
      "Time = 2021-02-13 15:47:54.472063 : Step = 0900, Radius = 3, alpha = 0.006600588969001639\n",
      "Time = 2021-02-13 15:49:39.150375 : Step = 1000, Radius = 3, alpha = 0.006302516957914928\n",
      "Time = 2021-02-13 15:50:42.748829 : Step = 1100, Radius = 2, alpha = 0.006017905400768089\n",
      "Time = 2021-02-13 15:51:37.101261 : Step = 1200, Radius = 2, alpha = 0.00574614644505056\n",
      "Time = 2021-02-13 15:52:31.898045 : Step = 1300, Radius = 2, alpha = 0.005486659687896215\n",
      "Time = 2021-02-13 15:53:26.611871 : Step = 1400, Radius = 2, alpha = 0.005238890936501448\n",
      "Time = 2021-02-13 15:54:20.722066 : Step = 1500, Radius = 2, alpha = 0.005002311024520787\n",
      "Time = 2021-02-13 15:55:15.013226 : Step = 1600, Radius = 2, alpha = 0.004776414681912187\n",
      "Time = 2021-02-13 15:56:09.238316 : Step = 1700, Radius = 2, alpha = 0.004560719455818295\n",
      "Time = 2021-02-13 15:57:04.348764 : Step = 1800, Radius = 2, alpha = 0.004354764680178982\n",
      "Time = 2021-02-13 15:57:59.095194 : Step = 1900, Radius = 2, alpha = 0.004158110491874532\n",
      "Time = 2021-02-13 15:58:53.298123 : Step = 2000, Radius = 2, alpha = 0.003970336891298209\n"
     ]
    }
   ],
   "source": [
    "fig = plt.figure()\n",
    "image_list = []\n",
    "\n",
    "for step in range(learning_step + 1):\n",
    "    cell_label.fill(-1)                   # Initialize labels for all cells at the beginning of each learning step\n",
    "    weight_delta.fill(0.0)                # Initialize weight vector increments\n",
    "    \n",
    "    radius = max(round(rangeF * row), 0)\n",
    "    \n",
    "    for i in range(n_samples):\n",
    "        inputVec = data[i]\n",
    "        label = target[i]\n",
    "        \n",
    "        x, y = find_matching_cell(inputVec)  # X-axis is the vertical axis and Y-axis is the horizontal axis\n",
    "        \n",
    "        if cell_label[x, y] != -2:           # If different labels are not assigned to the same cell\n",
    "            if cell_label[x, y] == -1  :     # When in unassigned state\n",
    "                cell_label[x, y] = label\n",
    "            else:\n",
    "                if cell_label[x, y] != label:\n",
    "                    cell_label[x, y] = -2    # When different labels are assigned to the same cell\n",
    "\n",
    "        change_weight(x, y, alpha, radius, inputVec)\n",
    "    \n",
    "    if step % 100 == 0:\n",
    "        cell_color.fill(0)\n",
    "        \n",
    "        for x in range(row):\n",
    "            for y in range(col):\n",
    "                cell_color[x, y] = pallets[cell_label[x, y]]\n",
    "        \n",
    "        image = create_image(cell_color, step)\n",
    "        image_list.append([image])\n",
    "\n",
    "        print(\"Time = {} : Step = {:04d}, Radius = {}, alpha = {}\".format(\n",
    "            datetime.datetime.now(), step, radius, alpha))\n",
    "\n",
    "    #weight_delta /= weight_count[:, :, np.newaxis]\n",
    "    weight += weight_delta\n",
    "\n",
    "    rate = 2 ** (-step / half_step)\n",
    "    rangeF = range_init * rate\n",
    "    alpha  = alpha_init * rate\n",
    "\n",
    "end_time = time.time()\n",
    "print(\"\\nElapsed Time: {0} [sec]\".format(end_time - start_time))\n",
    "\n",
    "plt.show()"
   ]
  }
 ],
 "metadata": {
  "kernelspec": {
   "display_name": "Python 3",
   "language": "python",
   "name": "python3"
  },
  "language_info": {
   "codemirror_mode": {
    "name": "ipython",
    "version": 3
   },
   "file_extension": ".py",
   "mimetype": "text/x-python",
   "name": "python",
   "nbconvert_exporter": "python",
   "pygments_lexer": "ipython3",
   "version": "3.7.6"
  }
 },
 "nbformat": 4,
 "nbformat_minor": 2
}
